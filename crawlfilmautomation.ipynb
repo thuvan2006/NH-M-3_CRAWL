{
 "cells": [
  {
   "cell_type": "code",
   "execution_count": 1,
   "metadata": {},
   "outputs": [
    {
     "name": "stdout",
     "output_type": "stream",
     "text": [
      "Requirement already satisfied: selenium in c:\\users\\thuva\\appdata\\local\\programs\\python\\python311\\lib\\site-packages (4.19.0)\n",
      "Requirement already satisfied: urllib3<3,>=1.26 in c:\\users\\thuva\\appdata\\local\\programs\\python\\python311\\lib\\site-packages (from urllib3[socks]<3,>=1.26->selenium) (1.26.15)\n",
      "Requirement already satisfied: trio~=0.17 in c:\\users\\thuva\\appdata\\local\\programs\\python\\python311\\lib\\site-packages (from selenium) (0.25.0)\n",
      "Requirement already satisfied: trio-websocket~=0.9 in c:\\users\\thuva\\appdata\\local\\programs\\python\\python311\\lib\\site-packages (from selenium) (0.11.1)\n",
      "Requirement already satisfied: certifi>=2021.10.8 in c:\\users\\thuva\\appdata\\local\\programs\\python\\python311\\lib\\site-packages (from selenium) (2022.12.7)\n",
      "Requirement already satisfied: typing_extensions>=4.9.0 in c:\\users\\thuva\\appdata\\local\\programs\\python\\python311\\lib\\site-packages (from selenium) (4.11.0)\n",
      "Requirement already satisfied: attrs>=23.2.0 in c:\\users\\thuva\\appdata\\local\\programs\\python\\python311\\lib\\site-packages (from trio~=0.17->selenium) (23.2.0)\n",
      "Requirement already satisfied: sortedcontainers in c:\\users\\thuva\\appdata\\local\\programs\\python\\python311\\lib\\site-packages (from trio~=0.17->selenium) (2.4.0)\n",
      "Requirement already satisfied: idna in c:\\users\\thuva\\appdata\\local\\programs\\python\\python311\\lib\\site-packages (from trio~=0.17->selenium) (3.4)\n",
      "Requirement already satisfied: outcome in c:\\users\\thuva\\appdata\\local\\programs\\python\\python311\\lib\\site-packages (from trio~=0.17->selenium) (1.3.0.post0)\n",
      "Requirement already satisfied: sniffio>=1.3.0 in c:\\users\\thuva\\appdata\\local\\programs\\python\\python311\\lib\\site-packages (from trio~=0.17->selenium) (1.3.1)\n",
      "Requirement already satisfied: cffi>=1.14 in c:\\users\\thuva\\appdata\\local\\programs\\python\\python311\\lib\\site-packages (from trio~=0.17->selenium) (1.16.0)\n",
      "Requirement already satisfied: wsproto>=0.14 in c:\\users\\thuva\\appdata\\local\\programs\\python\\python311\\lib\\site-packages (from trio-websocket~=0.9->selenium) (1.2.0)\n",
      "Requirement already satisfied: PySocks!=1.5.7,<2.0,>=1.5.6 in c:\\users\\thuva\\appdata\\local\\programs\\python\\python311\\lib\\site-packages (from urllib3[socks]<3,>=1.26->selenium) (1.7.1)\n",
      "Requirement already satisfied: pycparser in c:\\users\\thuva\\appdata\\local\\programs\\python\\python311\\lib\\site-packages (from cffi>=1.14->trio~=0.17->selenium) (2.22)\n",
      "Requirement already satisfied: h11<1,>=0.9.0 in c:\\users\\thuva\\appdata\\local\\programs\\python\\python311\\lib\\site-packages (from wsproto>=0.14->trio-websocket~=0.9->selenium) (0.14.0)\n",
      "Note: you may need to restart the kernel to use updated packages.\n"
     ]
    },
    {
     "name": "stderr",
     "output_type": "stream",
     "text": [
      "\n",
      "[notice] A new release of pip is available: 23.3.2 -> 24.0\n",
      "[notice] To update, run: python.exe -m pip install --upgrade pip\n"
     ]
    }
   ],
   "source": [
    "%pip install selenium"
   ]
  },
  {
   "cell_type": "code",
   "execution_count": 2,
   "metadata": {},
   "outputs": [
    {
     "name": "stdout",
     "output_type": "stream",
     "text": [
      "Requirement already satisfied: BeautifulSoup4 in c:\\users\\thuva\\appdata\\local\\programs\\python\\python311\\lib\\site-packages (4.12.0)\n",
      "Requirement already satisfied: soupsieve>1.2 in c:\\users\\thuva\\appdata\\local\\programs\\python\\python311\\lib\\site-packages (from BeautifulSoup4) (2.4)\n",
      "Note: you may need to restart the kernel to use updated packages.\n"
     ]
    },
    {
     "name": "stderr",
     "output_type": "stream",
     "text": [
      "\n",
      "[notice] A new release of pip is available: 23.3.2 -> 24.0\n",
      "[notice] To update, run: python.exe -m pip install --upgrade pip\n"
     ]
    }
   ],
   "source": [
    "%pip install BeautifulSoup4"
   ]
  },
  {
   "cell_type": "code",
   "execution_count": 3,
   "metadata": {},
   "outputs": [],
   "source": [
    "import selenium\n",
    "from selenium import webdriver\n",
    "from selenium.webdriver.common.keys import Keys \n",
    "#khai báo By vì khi định vị element trên trang web bằng id, name với vesion mới của selenium thì dùng By thay vì dùng\n",
    "# find_element_by_id(‘id’) thay thành find_element(By.ID, 'username')\n",
    "from selenium.webdriver.common.by import By\n",
    "from time import sleep\n",
    "from bs4 import BeautifulSoup"
   ]
  },
  {
   "cell_type": "code",
   "execution_count": 13,
   "metadata": {},
   "outputs": [],
   "source": [
    "chrome_driver= webdriver.Chrome()\n",
    "url = 'https://www.imdb.com/registration/signin'\n",
    "chrome_driver.get(url)\n",
    "sleep(2)"
   ]
  },
  {
   "cell_type": "code",
   "execution_count": 14,
   "metadata": {},
   "outputs": [],
   "source": [
    "click_singin = chrome_driver.find_element(By.XPATH, '//*[@id=\"signin-options\"]/div/div[1]/a[1]')\n",
    "click_singin.click()\n",
    "sleep(3)"
   ]
  },
  {
   "cell_type": "code",
   "execution_count": 15,
   "metadata": {},
   "outputs": [],
   "source": [
    "with open('login.txt', 'r') as file:\n",
    "    # Đọc từng dòng trong file\n",
    "    lines = file.readlines()\n",
    "    # Gán username và password từ từng dòng\n",
    "    username = lines[0].strip()  # Lấy dòng đầu tiên và loại bỏ khoảng trắng ở hai đầu\n",
    "    password = lines[1].strip()  "
   ]
  },
  {
   "cell_type": "code",
   "execution_count": 16,
   "metadata": {},
   "outputs": [],
   "source": [
    "# Tìm phần tử trên trang web bằng id và gán cho biến 'email'\n",
    "email_login = chrome_driver.find_element(By.ID, 'ap_email')\n",
    "# Gửi dữ liệu (địa chỉ email) vào phần tử email\n",
    "email_login.send_keys(username)\n",
    "sleep(3)"
   ]
  },
  {
   "cell_type": "code",
   "execution_count": 17,
   "metadata": {},
   "outputs": [],
   "source": [
    "password_login = chrome_driver.find_element(By.ID, 'ap_password')\n",
    "password_login.send_keys(password)\n",
    "sleep(2)"
   ]
  },
  {
   "cell_type": "code",
   "execution_count": 18,
   "metadata": {},
   "outputs": [],
   "source": [
    "login = chrome_driver.find_element(By.ID, 'signInSubmit')\n",
    "login.click()\n",
    "sleep(3)"
   ]
  },
  {
   "cell_type": "code",
   "execution_count": 19,
   "metadata": {},
   "outputs": [],
   "source": [
    "menu = chrome_driver.find_element(By.XPATH, '//*[@id=\"imdbHeader-navDrawerOpen\"]')\n",
    "menu.click()\n",
    "sleep(3)"
   ]
  },
  {
   "cell_type": "code",
   "execution_count": 20,
   "metadata": {},
   "outputs": [],
   "source": [
    "choice = input(\"Bạn muốn cào dữ liệu từ (nhập số):\\n1. TOP 250 MOVIES\\n2. POPULAR MOVIES\\n\")\n",
    "if choice == \"1\":\n",
    "    top_chart = chrome_driver.find_element(By.XPATH, '//*[@id=\"imdbHeader\"]/div[2]/aside[1]/div/div[2]/div/div[1]/span/div/div/ul/a[2]')\n",
    "    top_chart.click()\n",
    "    sleep(3)\n",
    "    soup = BeautifulSoup(chrome_driver.page_source, 'html.parser')\n",
    "    nameList=[]\n",
    "    yearList=[]\n",
    "    ratingList=[]\n",
    "    linkList=[]\n",
    "    Lists= soup.findAll('li', {'class':'ipc-metadata-list-summary-item'})\n",
    "    for List in Lists:\n",
    "        name= List.find('div', {'class':'cli-children'}).a.text\n",
    "        nametemp=  name.split('. ')[1]\n",
    "        nameList.append(nametemp) \n",
    "        year = List.find('div', {'class':'cli-title-metadata'}).text[0:4]\n",
    "        yearList.append(year)\n",
    "        rating =  List.find('div', {'data-testid':'ratingGroup--container'}).text[0:3]\n",
    "        ratingList.append(rating)\n",
    "        a_tag = List.find('div', {'class': 'cli-children'}).a\n",
    "        if a_tag:\n",
    "            link = f'https://www.imdb.com{a_tag[\"href\"]}'\n",
    "            linkList.append(link)\n",
    "    # In ra danh sách các liên kết đã được trích xuất\n",
    "    for link in linkList:\n",
    "        soup = BeautifulSoup(chrome_driver.page_source, 'html.parser')\n",
    "        url = 'link'\n",
    "        genres= soup.findAll('span', {'class':'ipc-chip__text'})\n",
    "        # Tạo một danh sách để lưu trữ các thể loại của phim\n",
    "        genresList = []\n",
    "        \n",
    "        # Duyệt qua từng thẻ span và thêm thể loại vào danh sách\n",
    "        for genre in genres:\n",
    "            genresList.append(genre.text)\n",
    "        genresList.append(\", \".join(genresList))\n",
    "elif choice == \"2\":\n",
    "    popular_movie = chrome_driver.find_element(By.XPATH, '//*[@id=\"imdbHeader\"]/div[2]/aside[1]/div/div[2]/div/div[1]/span/div/div/ul/a[3]')\n",
    "    popular_movie.click()\n",
    "    sleep(3)\n",
    "    soup = BeautifulSoup(chrome_driver.page_source, 'html.parser')\n",
    "    nameList=[]\n",
    "    yearList=[]\n",
    "    ratingList=[]\n",
    "    linkList=[]\n",
    "    Lists= soup.findAll('li', {'class':'ipc-metadata-list-summary-item'})\n",
    "    for List in Lists:\n",
    "        name= List.find('div', {'class':'cli-children'}).a.text\n",
    "        nameList.append(name) \n",
    "        year = List.find('div', {'class':'cli-title-metadata'}).text[0:4]\n",
    "        yearList.append(year)\n",
    "        rating =  List.find('div', {'data-testid':'ratingGroup--container'}).text[0:3]\n",
    "        ratingList.append(rating)\n",
    "        a_tag = List.find('div', {'class': 'cli-children'}).a\n",
    "        if a_tag:\n",
    "            link = f'https://www.imdb.com{a_tag[\"href\"]}'\n",
    "            linkList.append(link)\n",
    "    # In ra danh sách các liên kết đã được trích xuất\n",
    "    for link in linkList:\n",
    "        soup = BeautifulSoup(chrome_driver.page_source, 'html.parser')\n",
    "        url = 'link'\n",
    "        genres= soup.findAll('span', {'class':'ipc-chip__text'})\n",
    "        # Tạo một danh sách để lưu trữ các thể loại của phim\n",
    "        genresList = []\n",
    "        \n",
    "        # Duyệt qua từng thẻ span và thêm thể loại vào danh sách\n",
    "        for genre in genres:\n",
    "            genresList.append(genre.text)\n",
    "        genresList.append(\", \".join(genresList))\n",
    "else:\n",
    "    print('Lựa chọn không hợp lệ')   "
   ]
  },
  {
   "cell_type": "code",
   "execution_count": 21,
   "metadata": {},
   "outputs": [
    {
     "name": "stdout",
     "output_type": "stream",
     "text": [
      "['Action', 'Adventure', 'Animation', 'Biography', 'Comedy', 'Crime', 'Documentary', 'Drama', 'Family', 'Fantasy', 'Film-Noir', 'History', 'Horror', 'Music', 'Musical', 'Mystery', 'Romance', 'Sci-Fi', 'Short', 'Sport', 'Thriller', 'War', 'Western', 'Back to top', 'Action, Adventure, Animation, Biography, Comedy, Crime, Documentary, Drama, Family, Fantasy, Film-Noir, History, Horror, Music, Musical, Mystery, Romance, Sci-Fi, Short, Sport, Thriller, War, Western, Back to top']\n"
     ]
    }
   ],
   "source": [
    "print(len(genresList))"
   ]
  }
 ],
 "metadata": {
  "kernelspec": {
   "display_name": "Python 3",
   "language": "python",
   "name": "python3"
  },
  "language_info": {
   "codemirror_mode": {
    "name": "ipython",
    "version": 3
   },
   "file_extension": ".py",
   "mimetype": "text/x-python",
   "name": "python",
   "nbconvert_exporter": "python",
   "pygments_lexer": "ipython3",
   "version": "3.11.0"
  }
 },
 "nbformat": 4,
 "nbformat_minor": 2
}
